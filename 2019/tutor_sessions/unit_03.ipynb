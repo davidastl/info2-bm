{
 "cells": [
  {
   "cell_type": "markdown",
   "metadata": {},
   "source": [
    "# Unit 03\n",
    "* Python *args\n",
    "* Python **kwargs\n",
    "* super()\n",
    "* Programming Example"
   ]
  },
  {
   "cell_type": "markdown",
   "metadata": {},
   "source": [
    "Reusing code is an essential part of programming and can be accomplished using:\n",
    "* functions\n",
    "* classes"
   ]
  },
  {
   "cell_type": "code",
   "execution_count": 4,
   "metadata": {},
   "outputs": [
    {
     "data": {
      "text/plain": [
       "6"
      ]
     },
     "execution_count": 4,
     "metadata": {},
     "output_type": "execute_result"
    }
   ],
   "source": [
    "def multiplication(a, b, c):\n",
    "    return a*b*c\n",
    "\n",
    "multiplication(1, 2, 3)"
   ]
  },
  {
   "cell_type": "markdown",
   "metadata": {},
   "source": [
    "However functions and classes require special arguments in order to function freely and implementation independent.  "
   ]
  },
  {
   "cell_type": "code",
   "execution_count": 5,
   "metadata": {},
   "outputs": [
    {
     "ename": "TypeError",
     "evalue": "multiplication() missing 1 required positional argument: 'c'",
     "output_type": "error",
     "traceback": [
      "\u001b[1;31m---------------------------------------------------------------------------\u001b[0m",
      "\u001b[1;31mTypeError\u001b[0m                                 Traceback (most recent call last)",
      "\u001b[1;32m<ipython-input-5-95955a50271a>\u001b[0m in \u001b[0;36m<module>\u001b[1;34m\u001b[0m\n\u001b[1;32m----> 1\u001b[1;33m \u001b[0mmultiplication\u001b[0m\u001b[1;33m(\u001b[0m\u001b[1;36m1\u001b[0m\u001b[1;33m,\u001b[0m \u001b[1;36m2\u001b[0m\u001b[1;33m)\u001b[0m\u001b[1;33m\u001b[0m\u001b[1;33m\u001b[0m\u001b[0m\n\u001b[0m",
      "\u001b[1;31mTypeError\u001b[0m: multiplication() missing 1 required positional argument: 'c'"
     ]
    }
   ],
   "source": [
    "multiplication(1, 2)"
   ]
  },
  {
   "cell_type": "markdown",
   "metadata": {},
   "source": [
    "Sometimes when writing functions or creating classes we want to be able to implement and test out a different number of parameters depending on which information is already available. To do this and also prevent Python from providing us with a TypeError we can use:\n",
    "* non keyword arguments (*args)\n",
    "* keyword arguments (**kwargs)"
   ]
  },
  {
   "cell_type": "code",
   "execution_count": 17,
   "metadata": {},
   "outputs": [
    {
     "name": "stdout",
     "output_type": "stream",
     "text": [
      "<class 'tuple'>\n",
      "(1, 2)\n"
     ]
    }
   ],
   "source": [
    "def test(*testers):\n",
    "    print(type(testers))\n",
    "    print(testers)\n",
    "test(1, 2)"
   ]
  },
  {
   "cell_type": "code",
   "execution_count": 18,
   "metadata": {},
   "outputs": [],
   "source": [
    "def multiplication(*factors):\n",
    "    total = 1\n",
    "    for number in factors:\n",
    "        total *= number\n",
    "    return total"
   ]
  },
  {
   "cell_type": "code",
   "execution_count": 19,
   "metadata": {},
   "outputs": [
    {
     "name": "stdout",
     "output_type": "stream",
     "text": [
      "2000\n",
      "1\n",
      "1\n",
      "40320\n"
     ]
    }
   ],
   "source": [
    "print(multiplication(10, 20, 10))\n",
    "print(multiplication(1))\n",
    "print(multiplication())\n",
    "print(multiplication(1, 2, 3, 4, 5, 6, 7, 8))"
   ]
  },
  {
   "cell_type": "code",
   "execution_count": 22,
   "metadata": {},
   "outputs": [
    {
     "name": "stdout",
     "output_type": "stream",
     "text": [
      "<class 'dict'>\n",
      "{'Name': 'Informatik 1', 'Credits': 4.5, 'Semesters_hours': 2}\n",
      "Name Informatik 1\n",
      "Credits 4.5\n",
      "Semesters_hours 2\n"
     ]
    }
   ],
   "source": [
    "def course(**information):\n",
    "    print(type(information))\n",
    "    print(information)\n",
    "    for argument, info in information.items():\n",
    "        print(argument, info)\n",
    "course(Name = \"Informatik 1\", Credits = 4.5, Semesters_hours = 2)"
   ]
  },
  {
   "cell_type": "code",
   "execution_count": 24,
   "metadata": {},
   "outputs": [
    {
     "ename": "TypeError",
     "evalue": "course() takes 0 positional arguments but 1 was given",
     "output_type": "error",
     "traceback": [
      "\u001b[1;31m---------------------------------------------------------------------------\u001b[0m",
      "\u001b[1;31mTypeError\u001b[0m                                 Traceback (most recent call last)",
      "\u001b[1;32m<ipython-input-24-d6ad04a57e48>\u001b[0m in \u001b[0;36m<module>\u001b[1;34m\u001b[0m\n\u001b[1;32m----> 1\u001b[1;33m \u001b[0mcourse\u001b[0m\u001b[1;33m(\u001b[0m\u001b[1;34m\"Informatik 1\"\u001b[0m\u001b[1;33m)\u001b[0m\u001b[1;33m\u001b[0m\u001b[1;33m\u001b[0m\u001b[0m\n\u001b[0m",
      "\u001b[1;31mTypeError\u001b[0m: course() takes 0 positional arguments but 1 was given"
     ]
    }
   ],
   "source": [
    "course(\"Informatik 1\")"
   ]
  },
  {
   "cell_type": "markdown",
   "metadata": {},
   "source": [
    "The built in Python super() function allows us to perform two things:\n",
    "* Allows us to reuse code from the base class\n",
    "* Work with multiple inheritance"
   ]
  },
  {
   "cell_type": "code",
   "execution_count": 27,
   "metadata": {},
   "outputs": [
    {
     "name": "stdout",
     "output_type": "stream",
     "text": [
      "This animal can fly\n",
      "Pigeon can move\n"
     ]
    }
   ],
   "source": [
    "class Animal:\n",
    "    def __init__(self, animalType):\n",
    "        print(animalType, \"can move\")\n",
    "\n",
    "class Bird(Animal):\n",
    "    def __init__(self):\n",
    "        print(\"This animal can fly\")\n",
    "        Animal.__init__(self, 'Pigeon')\n",
    "pigeon = Bird()"
   ]
  },
  {
   "cell_type": "markdown",
   "metadata": {},
   "source": [
    "Instead of calling the parent class explicitly and defining the name which can be subject to change we can easily call the parent constructor by using the method super(). The super() method returns an object that is able to call the method of the parent class and therefore set the pointer to a different class at a certain time if needed."
   ]
  },
  {
   "cell_type": "code",
   "execution_count": 29,
   "metadata": {},
   "outputs": [
    {
     "name": "stdout",
     "output_type": "stream",
     "text": [
      "This animal can fly\n",
      "Pigeon can move\n"
     ]
    }
   ],
   "source": [
    "class Animal:\n",
    "    def __init__(self, animalType):\n",
    "        print(animalType, \"can move\")\n",
    "\n",
    "class Bird(Animal):\n",
    "    def __init__(self):\n",
    "        print(\"This animal can fly\")\n",
    "        super().__init__('Pigeon')\n",
    "pigeon = Bird()"
   ]
  },
  {
   "cell_type": "code",
   "execution_count": 1,
   "metadata": {},
   "outputs": [
    {
     "name": "stdout",
     "output_type": "stream",
     "text": [
      "Fakestreet 16, Fakecity\n"
     ]
    }
   ],
   "source": [
    "# Example class\n",
    "class Person:\n",
    "    \n",
    "    def __init__(self, first_name, age):\n",
    "        self.first_name = first_name\n",
    "        self.age = age\n",
    "        self.hobbies = []\n",
    "        self._address = None\n",
    "    \n",
    "    def add_hobby(self, new_hobby):\n",
    "        if new_hobby not in self.hobbies:\n",
    "            self.hobbies.append(new_hobby)\n",
    "            \n",
    "    def introduce(self):\n",
    "        print(\"Hi, my name is {name}, I'm {age} years old and I like to {hobbies}.\".format(\n",
    "               name=self.first_name,\n",
    "               age=self.age,\n",
    "               hobbies=\" and \".join(self.hobbies)))\n",
    "        \n",
    "    @property   # getter\n",
    "    def address(self):\n",
    "        if self._address is None:\n",
    "            raise ValueError(\"Address has not been set yet\")\n",
    "        return self._address\n",
    "    \n",
    "    @address.setter\n",
    "    def address(self, new_address):\n",
    "        if type(new_address) != str:\n",
    "            raise TypeError(\"Please enter the address as a string\")\n",
    "        self._address = new_address\n",
    "        \n",
    "    @address.deleter \n",
    "    def address(self):\n",
    "        del self._address\n",
    "        \n",
    "\n",
    "tim = Person(\"Tim\", 15)\n",
    "tim.address = \"Fakestreet 16, Fakecity\"\n",
    "print(tim.address)"
   ]
  },
  {
   "cell_type": "code",
   "execution_count": 2,
   "metadata": {},
   "outputs": [],
   "source": [
    "class Student(Person):\n",
    "    def __init__(self, first_name, age, subject, university):\n",
    "        self.subject = subject\n",
    "        self.university = university\n",
    "        \n",
    "        super().__init__(first_name, age) # this calls the baseclasses constructor with the needed parameters\n",
    "    \n",
    "    def introduce(self):\n",
    "        print(\"Hi, I'm {name} and I'm studying {subject} at {uni}\".format(\n",
    "                 name=self.first_name,\n",
    "                 subject=self.subject,\n",
    "                 uni=self.university) )"
   ]
  },
  {
   "cell_type": "code",
   "execution_count": 3,
   "metadata": {},
   "outputs": [
    {
     "name": "stdout",
     "output_type": "stream",
     "text": [
      "Hi, I'm Mike and I'm studying Biomed at TU Graz\n"
     ]
    }
   ],
   "source": [
    "mike = Student(\"Mike\", 21, \"Biomed\", \"TU Graz\")\n",
    "mike.introduce()"
   ]
  },
  {
   "cell_type": "markdown",
   "metadata": {},
   "source": [
    "## Programming Example\n",
    "Create a Python class BasicList yourself so that it has methods add(element) which adds a new element to the list, sort() and len(). Create an additional method getItem(index) which returns the element from the current index. Make sure that your class is able to take an undefined length of numbers! Next create a SortedList which should be a subclass of BasicList. Utilize super() when creating the constructor and modifying the add method so that the list always remains sorted!\n"
   ]
  },
  {
   "cell_type": "code",
   "execution_count": null,
   "metadata": {},
   "outputs": [],
   "source": []
  }
 ],
 "metadata": {
  "kernelspec": {
   "display_name": "Python 3",
   "language": "python",
   "name": "python3"
  },
  "language_info": {
   "codemirror_mode": {
    "name": "ipython",
    "version": 3
   },
   "file_extension": ".py",
   "mimetype": "text/x-python",
   "name": "python",
   "nbconvert_exporter": "python",
   "pygments_lexer": "ipython3",
   "version": "3.6.8"
  }
 },
 "nbformat": 4,
 "nbformat_minor": 2
}
