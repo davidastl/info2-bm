{
 "cells": [
  {
   "cell_type": "code",
   "execution_count": null,
   "metadata": {},
   "outputs": [],
   "source": [
    "######################################################################\n",
    "# Author:      [FIRST NAME] [LAST NAME]\n",
    "# MatNr:       [MATR NR]\n",
    "# Description: [SHORTDESCRIPTION]\n",
    "# Comments:    [ANY RELEVANT COMMENTS.\n",
    "#              CAN BE MULTILINE]\n",
    "######################################################################"
   ]
  },
  {
   "cell_type": "markdown",
   "metadata": {},
   "source": [
    "_Informatik 2 für Biomedical Engineering 2019_"
   ]
  },
  {
   "cell_type": "markdown",
   "metadata": {},
   "source": [
    "# Assignment 1\n",
    "Insgesamt sind maximal 10 Punkte erreichbar. Achten Sie darauf, die Namen aller Klassen, Attribute, Methoden, Dateien sowie alle Aus- und Rückgaben __exakt__ wie gefordert einhalten!"
   ]
  },
  {
   "cell_type": "markdown",
   "metadata": {},
   "source": [
    "## 1) Einfache Klassen "
   ]
  },
  {
   "cell_type": "markdown",
   "metadata": {},
   "source": [
    "### 1.1) Simple Klassen (1P)"
   ]
  },
  {
   "cell_type": "markdown",
   "metadata": {},
   "source": [
    "Schreiben Sie eine Klasse ```BasicPerson```. Deren Konstruktor soll folgende Argumente erwarten und in gleichlautende protected-Attribute (mit “\\_” am Anfang) speichern:  \n",
    "* ```name``` -  (string)\n",
    "* ```birthdate``` - (string, im format YYYY-MM-DD)\n",
    "\n",
    "Überprüfen Sie die Datentypen im Konstruktor bevor Sie die Attribute speichern."
   ]
  },
  {
   "cell_type": "code",
   "execution_count": null,
   "metadata": {},
   "outputs": [],
   "source": [
    "# Write your code for 1.1 below\n",
    "\n",
    "\n"
   ]
  },
  {
   "cell_type": "code",
   "execution_count": null,
   "metadata": {},
   "outputs": [],
   "source": [
    "# Cell to test your code above\n",
    "\n",
    "\n"
   ]
  },
  {
   "cell_type": "markdown",
   "metadata": {},
   "source": [
    "### 1.2) Properties & Methoden"
   ]
  },
  {
   "cell_type": "markdown",
   "metadata": {},
   "source": [
    "Schreiben Sie eine Klasse ```Person```. Der Konstruktor erwartet wieder die Parameter ```name```(string) und ```birthdate``` (string)"
   ]
  },
  {
   "cell_type": "markdown",
   "metadata": {},
   "source": [
    "#### 1.2.1) Getter&Setter (1P)\n",
    "\n",
    "Schreiben Sie Getter und Setter Funktionen (über Properties implementiert) für die Attribute ```name```und ```birthdate```. (Hinweis: Property-Funktionen haben keinen ```_``` - Prefix im Namen).  \n",
    "Die Getter sollen hier lediglich ihre zugehörigen Attribute zurückgeben.  \n",
    "Bei den Setter Funktionen sind Typechecks notwendig.\n",
    "Der Konstruktor der Klasse soll nun die Setter-Funktionen der Properties verwenden\n",
    "\n",
    "Fügen Sie zwei zusätzliche Properties hinzu: ```height``` (int, in cm) und ```weight``` (float, in kg). Deren Setter sollen Datentyp sowie Wertebereich (z.B., keine negativen Werte) überprüfen und gegebenenfalls passende Exceptions mit hilfreichen und aussagekräftigen Fehlermeldungen raisen. Der jeweilige Getter soll vor der Wertrückgabe überprüfen, ob das dazugehörige Attribut überhaupt schon gesetzt wurde, andernfalls eine entsprechende Exception werfen."
   ]
  },
  {
   "cell_type": "markdown",
   "metadata": {},
   "source": [
    "#### 1.2.3)  Methoden 1 (1P)\n",
    "Schreiben Sie (in der Klasse ```Person```) eine Methode ```calculate_bmi``` (ohne Argumente!) welche den Body-Mass-Index der Person berechnet und zurückgibt!\n",
    "\n",
    "Die Berechnung des BMI ist wie folgt:\n",
    "\n",
    "$BMI = \\frac{kg}{m^2}$\n",
    "\n",
    "$kg$ ... Gewicht in Kilogramm  \n",
    "$m$ ... Größe in Meter"
   ]
  },
  {
   "cell_type": "markdown",
   "metadata": {},
   "source": [
    "#### 1.2.4 Methoden 2 (1P)\n",
    "Fügen Sie der ```Person```-Klasse nun eine Methode ```introduce``` hinzu. Sie soll folgende Meldung __zurück__geben:  \n",
    "```Hi, my name is {name} and I was born on {birthdate}!```  \n",
    "Dabei sollen ```{name}``` und ```{birthdate}``` durch die entsprechenden Werte der Attribute ersetzt werden."
   ]
  },
  {
   "cell_type": "markdown",
   "metadata": {},
   "source": [
    "#### 1.2.5 Klassenvariablen (1P)\n",
    "\n",
    "Legen Sie eine Klassenvariable ```count``` an, die mitzählt, wie viele Objekte der Klasse “Person” im Moment existieren. Sie soll also (beginnend bei 0) bei jeder Objekterstellung inkrementiert, bei jedem Löschen eines Objekts (der “Person”-Klasse) dekrementiert werden.\n",
    "\n",
    "Hinweis: Implementieren Sie den Destruktor mittels einer  ```__del__(self)``` Funktion"
   ]
  },
  {
   "cell_type": "code",
   "execution_count": null,
   "metadata": {},
   "outputs": [],
   "source": [
    "# Write your code for 1.2 below\n",
    "\n",
    "\n"
   ]
  },
  {
   "cell_type": "code",
   "execution_count": null,
   "metadata": {},
   "outputs": [],
   "source": [
    "# Cell to test your code above\n",
    "\n",
    "\n"
   ]
  },
  {
   "cell_type": "markdown",
   "metadata": {},
   "source": [
    "## 2) Vererbung"
   ]
  },
  {
   "cell_type": "markdown",
   "metadata": {},
   "source": [
    "### 2.1) Einfache Vererbung (1P)\n",
    "Leiten Sie von der Klasse ```Person``` eine Klasse ```Student``` ab.  \n",
    "Deren Konstruktor erwartet - __zusätzlich__ zu den Argumenten des ```Person```-Konstruktors - noch ```field_of_study```, eine Studienrichtung (als string). Implementieren Sie ```field_of_study``` als Property (mit Getter und Setter Funktionen) und verwenden Sie diese im Konstruktor."
   ]
  },
  {
   "cell_type": "markdown",
   "metadata": {},
   "source": [
    "### 2.2) Methoden Überschreiben (1P)\n",
    "Schreiben Sie eine eigene ```introduce```-Methode für die ```Student```-Klasse! Der Rückgabestring soll wie folgt aussehen:  \n",
    "```Hi, my name is {name} and I study {field_of_study}!```  \n",
    "Ersetzen Sie ```{name}```und ```{field_of_study}``` wieder durch die entsprechenden Werte der Instanz."
   ]
  },
  {
   "cell_type": "code",
   "execution_count": null,
   "metadata": {},
   "outputs": [],
   "source": [
    "# Write your code for 2 below\n",
    "\n",
    "\n"
   ]
  },
  {
   "cell_type": "code",
   "execution_count": null,
   "metadata": {},
   "outputs": [],
   "source": [
    "# Cell to test your code above\n",
    "\n",
    "\n"
   ]
  },
  {
   "cell_type": "markdown",
   "metadata": {},
   "source": [
    "## 3) Komposition"
   ]
  },
  {
   "cell_type": "markdown",
   "metadata": {},
   "source": [
    "### 3.1) Flexible Objekterstellung (1P)\n",
    "Erstellen Sie eine Klasse ```Dean```  \n",
    "Diese Klasse beinhaltet ein privates ```Person``` Objekt, welches über die Property ```person``` von außen Verfügbar ist (read-only, die person Instanz darf also nicht überschrieben werden). Wie auch ```Student``` hat ```Dean``` ein ```field_of_study``` Attribut.\n",
    "\n",
    "Ermöglichen Sie das Erstellen der ```Dean```-Instanz über die folgenden zwei Varianten erstellen lässt:\n",
    "* ```name (string), birthdate (string), field_of_study (string)```\n",
    "* ```person (Person), field_of_study (string)```\n",
    "\n",
    "Im ersten Fall muss im ```Dean``` Konstruktor auch das ```Person```Objekt neu erstellt werden. "
   ]
  },
  {
   "cell_type": "code",
   "execution_count": null,
   "metadata": {},
   "outputs": [],
   "source": [
    "# Write your code for 3 below\n",
    "\n",
    "\n"
   ]
  },
  {
   "cell_type": "markdown",
   "metadata": {},
   "source": [
    "Hinweis: Erstellen Sie nun einige Student und Dean (über beide Varianten) Objekte und achten Sie den Wert der Klassenvariable ```count``` der ```Person``` Klasse nach jeder Erstellung."
   ]
  },
  {
   "cell_type": "code",
   "execution_count": null,
   "metadata": {},
   "outputs": [],
   "source": [
    "# Cell to test your code above\n",
    "\n",
    "\n"
   ]
  },
  {
   "cell_type": "markdown",
   "metadata": {},
   "source": [
    "## 4) Mehrfachvererbung (2P)"
   ]
  },
  {
   "cell_type": "markdown",
   "metadata": {},
   "source": [
    "Schreiben Sie eine Klasse ```Animal```. Ihr Konstruktor soll ```species``` (Tierart, string) und ```sound``` (Geräusch, string) erwarten und diese über entsprechende Properties speichern.\n",
    "\n",
    "Erstellen nun eine weitere Klasse: “Superhero”. Sie soll von ```Person``` und ```Animal``` abgeleitet sein. Der Konstruktor soll nun ```name```, ```sex```, ```species``` und ```sound```, und den entsprechenden Attributen der Basisklassen zuweisen. ```sex``` ist ein neues Attribut, welches nur in der ```Superhero``` Klasse verfügbar ist und entweder den Wert “m” oder “f” haben kann. Das Geburtsdatum soll zensiert als ```XXXX-XX-XX``` eingetragen werden.\n",
    "\n",
    "Überschreiben Sie nun wieder die ```introduce```-Methode der ```Person```-Klasse. Sie soll nun eine Meldung wie die folgende als String zurückgeben:\n",
    "\n",
    "```{sound}, my name is {name}, but at night I am {species}{suffix_according_to_sex}!```  \n",
    "\n",
    "```{sound}```, ```{name}```, ```{species}``` ersetzen Sie mit den Werten der jeweiligen Attribute.  \n",
    "```suffix_according_to_sex``` ist ```man```, wenn ```sex == 'm'```, sonst ```woman```.  \n",
    "```species``` und ```suffix_according_to_sex``` geben Sie in Großbuchstaben aus. \n",
    "Hinweis: Achten Sie dabei darauf, dass ```{sound}``` in Ihrer Rückgabe mit einem Großbuchstaben beginnen muss, da es am Satzanfang steht!\n",
    "\n",
    "Ein männlicher Superhero namens \"Bob\" mit der species \"fish\" und der noise \"blubb\" hat also folgenden String als Returnwert:   \n",
    "```Blubb, my name is Bob, but at night I am FISHMAN!```\n",
    "\n",
    "<font color=\"red\">**Hinweis:**</font> In ursprünglichen Version der Angabe wurde beim der ```introduce``` Funktion die Variable ```noise``` referenziert. Diese sollte ```sound``` sein. Dies wurde nun vereinheitlicht. Beim Testen ist sowohl ```sound``` als auch ```noise``` erlaubt."
   ]
  },
  {
   "cell_type": "code",
   "execution_count": null,
   "metadata": {},
   "outputs": [],
   "source": [
    "# Write your code for 4 below\n",
    "\n",
    "\n"
   ]
  },
  {
   "cell_type": "code",
   "execution_count": null,
   "metadata": {},
   "outputs": [],
   "source": [
    "# Cell to test your code above\n",
    "\n",
    "\n"
   ]
  }
 ],
 "metadata": {
  "kernelspec": {
   "display_name": "Python 3",
   "language": "python",
   "name": "python3"
  },
  "language_info": {
   "codemirror_mode": {
    "name": "ipython",
    "version": 3
   },
   "file_extension": ".py",
   "mimetype": "text/x-python",
   "name": "python",
   "nbconvert_exporter": "python",
   "pygments_lexer": "ipython3",
   "version": "3.7.0"
  }
 },
 "nbformat": 4,
 "nbformat_minor": 2
}
